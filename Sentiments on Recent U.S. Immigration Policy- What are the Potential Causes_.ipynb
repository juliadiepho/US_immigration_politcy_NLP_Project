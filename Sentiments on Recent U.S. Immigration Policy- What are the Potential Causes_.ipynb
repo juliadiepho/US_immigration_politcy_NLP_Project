{
 "cells": [
  {
   "cell_type": "markdown",
   "id": "8c8bf3bd",
   "metadata": {},
   "source": [
    "# Social Science Motivation "
   ]
  },
  {
   "cell_type": "markdown",
   "id": "382371aa",
   "metadata": {},
   "source": [
    "Immigration has always been a topic of continued debate and controversy in the U.S. given that there are more immigrants in the U.S. than any other countries in the world. In recent years, there have been considerable changes in U.S. immigration policies given the context of a global Covid-19 pandemic and the transition from one administration to another. Since Biden took over the office from Trump in January 2021, his administration has proposed and acted on several policies, including lifting restrictions that have affected the number of visas and green cards issued, raising refugee capacity, protecting Dreamers, etc. This analysis aims to examine how the U.S. public might have reacted differently to recent U.S. immigration policies and what the potential causes for such reactions might be through studying news articles on immigration from 2021 to 2022. \n",
    "\n",
    "A relevant piece of social science literature that could be helpful for expanding this analysis in the future is the book \"An Introduction to Migration Studies: The Rise and Coming of Age of a Research Field\" by Peter Scholten, Asya Pisarevskaya, and Nathan Levy. This book gives a broad and general scope of migration studies, which is described as an intersection of multiple disciplines, including sociology, political science, etc., with the increasing emergence of health studies, development studies, and governance studies. It involves the discussion of the following questions: Why and how people migrate, consequences of migration, and how to govern migration. As we would want to navigate the full picture of what cause the U.S. public to have certain sentiments or attitudes toward immigration and immigration policy, this book will be a helpful resource.\n",
    "\n",
    "Before analyzing the articles, we can expect that there would still be two main sentiments on the sentiment spectrum toward this issue: positive and negative attitudes. The difference in the sentiments might be explained by different political viewpoints and priorities on immigration and the locations where they could be more affected. For example, the public in cities that share a border with another country might have a more negative attitude due to their higher concern of border security, while states that are considered politically blue might lean toward positivity. "
   ]
  },
  {
   "cell_type": "markdown",
   "id": "de083a68",
   "metadata": {},
   "source": [
    "# Description of the Data"
   ]
  },
  {
   "cell_type": "markdown",
   "id": "224075f1",
   "metadata": {},
   "source": [
    "The text data for this project compiles 1,000 news articles published by both U.S. mainstream and local newspapers from 2021 to 2022. The data was collected using ProQuest U.S. Newsstream’s Advanced search filtering system. The primary subject for the data is “immigration policy” and since the primary interest is U.S. immigration policies specifically, locations outside of the U.S. were filtered out. Most of the filtering subjects are left as is, including topics that can be highly relevant to how immigration policies have been shaped or have changed such as “medicaid”, “families and family life”, “national security”, “covid-19,” “political parties” and “political campaigns.”  After all filters were applied, the first 1,000 articles sorted by relevance were selected to form our text data. For each article in the raw data text, the following meta-data are available and can be useful for our analysis: Title, full text, subject, place of publication, publication year, publication date, and publisher. Analyzing the texts based on these meta-data can help us discover some relationships that can give us an insight into our research question.  \n",
    "\n",
    "Since the articles in the text data are news articles, each article is more likely to represent the view of a wider group rather than their personal view only. The groups, or principals according to Goffman's production format, can be classified into the political parties with which the author considers themselves being more closely aligned, or the public of a specific region. In terms of Goffman's participation framework, the political parties as well as the general public have a significant influence on the onlook of immigration policies made by the government since immigration policy is an increasingly important factor in political campains and elections recently. "
   ]
  },
  {
   "cell_type": "markdown",
   "id": "8d81dac0",
   "metadata": {},
   "source": [
    "# Pre-Processing Data"
   ]
  },
  {
   "cell_type": "code",
   "execution_count": 1,
   "id": "205796e8",
   "metadata": {},
   "outputs": [],
   "source": [
    "import pandas as pd"
   ]
  },
  {
   "cell_type": "markdown",
   "id": "54053179",
   "metadata": {},
   "source": [
    "## Create a dataframe from original text data file (.txt)"
   ]
  },
  {
   "cell_type": "code",
   "execution_count": 2,
   "id": "d1a027de",
   "metadata": {},
   "outputs": [],
   "source": [
    "# Function to build a dataframe with useful information from original txt data file\n",
    "def data_frame (file_name):\n",
    "    \n",
    "    # Each article is separated by a long underscore in the original txt file\n",
    "    articles = str(file_name).split(\"____________________________________________________________\")\n",
    "    articles = articles[1:]\n",
    "    \n",
    "    # Initialize a data frame with 6 columns. Each column is a meta-data.\n",
    "    col_names = ['Title', 'Full Text', 'Publisher', 'Place', 'Month', 'Year']\n",
    "    df = pd.DataFrame(columns = col_names)\n",
    "    \n",
    "    # List for each article in the data\n",
    "    article = []\n",
    "    \n",
    "    # Extract necessary information for each article\n",
    "    # Each dataframe has 6 columns: Title, Full Text, Publisher, Place, Date, Year (of publication)\n",
    "    for i in range(0, len(articles)):\n",
    "        articles[i] = articles[i].split('\\n\\n')\n",
    "        article_info = [None, None, None, None, None, None]\n",
    "        \n",
    "        for content in articles[i]:\n",
    "            if \":\" in content:\n",
    "                content = content.split(\":\")\n",
    "                head = content[0]\n",
    "                \n",
    "                if head == 'Title':\n",
    "                    article_info[0] = content[1].strip()\n",
    "                if head == 'Full text':\n",
    "                    article_info[1] = content[1]\n",
    "                if head == 'Publisher':\n",
    "                    article_info[2] = content[1].strip()\n",
    "                if head == 'Place of publication':\n",
    "                    article_info[3] = content[1].strip()\n",
    "                if head == 'Publication date':\n",
    "                    article_info[4] = content[1].strip()\n",
    "                if head == 'Publication year':\n",
    "                    article_info[5] = content[1].strip()\n",
    "                \n",
    "        article.append(article_info)\n",
    "    \n",
    "    df = pd.DataFrame(article, columns = col_names)\n",
    "    # Drop the last row from the data frame since it is not an article\n",
    "    df = df.drop(df.index[-1])\n",
    "    \n",
    "    return df"
   ]
  },
  {
   "cell_type": "code",
   "execution_count": 3,
   "id": "240a694c",
   "metadata": {},
   "outputs": [
    {
     "data": {
      "text/html": [
       "<div>\n",
       "<style scoped>\n",
       "    .dataframe tbody tr th:only-of-type {\n",
       "        vertical-align: middle;\n",
       "    }\n",
       "\n",
       "    .dataframe tbody tr th {\n",
       "        vertical-align: top;\n",
       "    }\n",
       "\n",
       "    .dataframe thead th {\n",
       "        text-align: right;\n",
       "    }\n",
       "</style>\n",
       "<table border=\"1\" class=\"dataframe\">\n",
       "  <thead>\n",
       "    <tr style=\"text-align: right;\">\n",
       "      <th></th>\n",
       "      <th>Title</th>\n",
       "      <th>Full Text</th>\n",
       "      <th>Publisher</th>\n",
       "      <th>Place</th>\n",
       "      <th>Month</th>\n",
       "      <th>Year</th>\n",
       "    </tr>\n",
       "  </thead>\n",
       "  <tbody>\n",
       "    <tr>\n",
       "      <th>0</th>\n",
       "      <td>Democrats break GOP beachhead on Cape</td>\n",
       "      <td>Julian Cyr woke up the day after the 2016 ele...</td>\n",
       "      <td>Boston Globe Media Partners, LLC</td>\n",
       "      <td>Boston, Mass.</td>\n",
       "      <td>Dec 12, 2022</td>\n",
       "      <td>2022</td>\n",
       "    </tr>\n",
       "    <tr>\n",
       "      <th>1</th>\n",
       "      <td>Not long ago, the GOP controlled most of Cape ...</td>\n",
       "      <td>Julian Cyr woke up the day after the 2016 ele...</td>\n",
       "      <td>Boston Globe Media Partners, LLC</td>\n",
       "      <td>Boston</td>\n",
       "      <td>Dec 12, 2022</td>\n",
       "      <td>2022</td>\n",
       "    </tr>\n",
       "    <tr>\n",
       "      <th>2</th>\n",
       "      <td>Not long ago, the GOP controlled most of Cape ...</td>\n",
       "      <td>Julian Cyr woke up the day after the 2016 ele...</td>\n",
       "      <td>Boston Globe Media Partners, LLC</td>\n",
       "      <td>Boston</td>\n",
       "      <td>Dec 11, 2022</td>\n",
       "      <td>2022</td>\n",
       "    </tr>\n",
       "    <tr>\n",
       "      <th>3</th>\n",
       "      <td>Grand jury calls for stronger law against smug...</td>\n",
       "      <td>TALLAHASSEE - A statewide grand jury last wee...</td>\n",
       "      <td>Tribune Publishing Company, LLC</td>\n",
       "      <td>Fort Lauderdale, Fla.</td>\n",
       "      <td>Dec 11, 2022</td>\n",
       "      <td>2022</td>\n",
       "    </tr>\n",
       "    <tr>\n",
       "      <th>4</th>\n",
       "      <td>Visa shift for farm workers in doubt</td>\n",
       "      <td>Tom Hughes, the fourth-generation owner of Hu...</td>\n",
       "      <td>Gannett Media Corp</td>\n",
       "      <td>Des Moines, Iowa</td>\n",
       "      <td>Dec 11, 2022</td>\n",
       "      <td>2022</td>\n",
       "    </tr>\n",
       "    <tr>\n",
       "      <th>...</th>\n",
       "      <td>...</td>\n",
       "      <td>...</td>\n",
       "      <td>...</td>\n",
       "      <td>...</td>\n",
       "      <td>...</td>\n",
       "      <td>...</td>\n",
       "    </tr>\n",
       "    <tr>\n",
       "      <th>995</th>\n",
       "      <td>U.S. immigration arrests drop under Biden poli...</td>\n",
       "      <td>BY BEN FOX\\nThe Associated Press\\nWASHINGTON ...</td>\n",
       "      <td>Telegraph Herald</td>\n",
       "      <td>Dubuque, Iowa</td>\n",
       "      <td>Mar 12, 2022</td>\n",
       "      <td>2022</td>\n",
       "    </tr>\n",
       "    <tr>\n",
       "      <th>996</th>\n",
       "      <td>Immigration policies hinder immigrants and U.S...</td>\n",
       "      <td>In 2020, I received a master's degree in epid...</td>\n",
       "      <td>Gannett Media Corp</td>\n",
       "      <td>Nashville, Tenn.</td>\n",
       "      <td>Jul 18, 2021</td>\n",
       "      <td>2021</td>\n",
       "    </tr>\n",
       "    <tr>\n",
       "      <th>997</th>\n",
       "      <td>Immigration emerges as policy response to slow...</td>\n",
       "      <td>Enlarge this image.</td>\n",
       "      <td>CQ Roll Call</td>\n",
       "      <td>Washington, D.C.</td>\n",
       "      <td>May 11, 2021</td>\n",
       "      <td>2021</td>\n",
       "    </tr>\n",
       "    <tr>\n",
       "      <th>998</th>\n",
       "      <td>Immigration activists call for aid</td>\n",
       "      <td>Four days after a group of Republican lawmake...</td>\n",
       "      <td>Gannett Media Corp</td>\n",
       "      <td>El Paso, Tex.</td>\n",
       "      <td>Mar 20, 2021</td>\n",
       "      <td>2021</td>\n",
       "    </tr>\n",
       "    <tr>\n",
       "      <th>999</th>\n",
       "      <td>What the Horrific Crash on the Border Says Abo...</td>\n",
       "      <td>ProPublica is a nonprofit newsroom that inves...</td>\n",
       "      <td>ProPublica</td>\n",
       "      <td>New York</td>\n",
       "      <td>Mar 4, 2021</td>\n",
       "      <td>2021</td>\n",
       "    </tr>\n",
       "  </tbody>\n",
       "</table>\n",
       "<p>1000 rows × 6 columns</p>\n",
       "</div>"
      ],
      "text/plain": [
       "                                                 Title  \\\n",
       "0                Democrats break GOP beachhead on Cape   \n",
       "1    Not long ago, the GOP controlled most of Cape ...   \n",
       "2    Not long ago, the GOP controlled most of Cape ...   \n",
       "3    Grand jury calls for stronger law against smug...   \n",
       "4                 Visa shift for farm workers in doubt   \n",
       "..                                                 ...   \n",
       "995  U.S. immigration arrests drop under Biden poli...   \n",
       "996  Immigration policies hinder immigrants and U.S...   \n",
       "997  Immigration emerges as policy response to slow...   \n",
       "998                 Immigration activists call for aid   \n",
       "999  What the Horrific Crash on the Border Says Abo...   \n",
       "\n",
       "                                             Full Text  \\\n",
       "0     Julian Cyr woke up the day after the 2016 ele...   \n",
       "1     Julian Cyr woke up the day after the 2016 ele...   \n",
       "2     Julian Cyr woke up the day after the 2016 ele...   \n",
       "3     TALLAHASSEE - A statewide grand jury last wee...   \n",
       "4     Tom Hughes, the fourth-generation owner of Hu...   \n",
       "..                                                 ...   \n",
       "995   BY BEN FOX\\nThe Associated Press\\nWASHINGTON ...   \n",
       "996   In 2020, I received a master's degree in epid...   \n",
       "997                                Enlarge this image.   \n",
       "998   Four days after a group of Republican lawmake...   \n",
       "999   ProPublica is a nonprofit newsroom that inves...   \n",
       "\n",
       "                            Publisher                  Place         Month  \\\n",
       "0    Boston Globe Media Partners, LLC          Boston, Mass.  Dec 12, 2022   \n",
       "1    Boston Globe Media Partners, LLC                 Boston  Dec 12, 2022   \n",
       "2    Boston Globe Media Partners, LLC                 Boston  Dec 11, 2022   \n",
       "3     Tribune Publishing Company, LLC  Fort Lauderdale, Fla.  Dec 11, 2022   \n",
       "4                  Gannett Media Corp       Des Moines, Iowa  Dec 11, 2022   \n",
       "..                                ...                    ...           ...   \n",
       "995                  Telegraph Herald          Dubuque, Iowa  Mar 12, 2022   \n",
       "996                Gannett Media Corp       Nashville, Tenn.  Jul 18, 2021   \n",
       "997                      CQ Roll Call       Washington, D.C.  May 11, 2021   \n",
       "998                Gannett Media Corp          El Paso, Tex.  Mar 20, 2021   \n",
       "999                        ProPublica               New York   Mar 4, 2021   \n",
       "\n",
       "     Year  \n",
       "0    2022  \n",
       "1    2022  \n",
       "2    2022  \n",
       "3    2022  \n",
       "4    2022  \n",
       "..    ...  \n",
       "995  2022  \n",
       "996  2021  \n",
       "997  2021  \n",
       "998  2021  \n",
       "999  2021  \n",
       "\n",
       "[1000 rows x 6 columns]"
      ]
     },
     "execution_count": 3,
     "metadata": {},
     "output_type": "execute_result"
    }
   ],
   "source": [
    "# Create dataframe from immigration.txt\n",
    "data = open(\"/home/jupyter-ho25l@mtholyoke.ed-0035e/Individual Project/immigration.txt\", \"r\").read()\n",
    "df = data_frame(data)\n",
    "# Display dataframe\n",
    "df"
   ]
  },
  {
   "cell_type": "code",
   "execution_count": 4,
   "id": "c968b6f0",
   "metadata": {},
   "outputs": [],
   "source": [
    "# Create a copy of the original dataframe for later use\n",
    "df_copy = df.copy()"
   ]
  },
  {
   "cell_type": "markdown",
   "id": "98753877",
   "metadata": {},
   "source": [
    "## Pre-processing the Full Texts of Each Article"
   ]
  },
  {
   "cell_type": "code",
   "execution_count": 5,
   "id": "74a30b61",
   "metadata": {},
   "outputs": [],
   "source": [
    "import nltk\n",
    "from nltk.corpus import stopwords\n",
    "from nltk.tokenize import word_tokenize\n",
    "\n",
    "import string"
   ]
  },
  {
   "cell_type": "code",
   "execution_count": 6,
   "id": "cf812bfa",
   "metadata": {},
   "outputs": [],
   "source": [
    "# Function to preprocess full texts. The purpose is to make our data cleaner for analysis.\n",
    "def preprocess (text): \n",
    "    \n",
    "    # Remove non-breaking spaces\n",
    "    text = text.replace(\"\\xa0\",\"\") \n",
    "    \n",
    "    # All to lowercases\n",
    "    text = text.lower()\n",
    "    \n",
    "    # Remove leading whitespaces\n",
    "    text = text.strip()\n",
    "    \n",
    "    # Remove punctuations\n",
    "    punctuation_from_string_pkg = string.punctuation\n",
    "    punctuation_custom = punctuation_from_string_pkg.replace('*', '')\n",
    "    punctuation_custom = punctuation_custom + '''’’\"“”*'''\n",
    "    text = text.translate(str.maketrans('', '', punctuation_custom))\n",
    "    \n",
    "    stop_words = nltk.corpus.stopwords.words('english')\n",
    "    # Add more words to stop words list\n",
    "    more_stop_words = ['could', 'would', 'also', 'one', 'said', 'many']\n",
    "    stop_words.extend(more_stop_words)\n",
    "    \n",
    "    # Remove stop words\n",
    "    tokens = word_tokenize(text)\n",
    "    filtered = []\n",
    "    for token in tokens:\n",
    "        if token not in stop_words:\n",
    "            filtered.append(token)\n",
    "    \n",
    "    text = ' '.join(filtered)\n",
    "    \n",
    "    # Return pre-processed text\n",
    "    return text"
   ]
  },
  {
   "cell_type": "code",
   "execution_count": 7,
   "id": "58e3297d",
   "metadata": {},
   "outputs": [
    {
     "data": {
      "text/html": [
       "<div>\n",
       "<style scoped>\n",
       "    .dataframe tbody tr th:only-of-type {\n",
       "        vertical-align: middle;\n",
       "    }\n",
       "\n",
       "    .dataframe tbody tr th {\n",
       "        vertical-align: top;\n",
       "    }\n",
       "\n",
       "    .dataframe thead th {\n",
       "        text-align: right;\n",
       "    }\n",
       "</style>\n",
       "<table border=\"1\" class=\"dataframe\">\n",
       "  <thead>\n",
       "    <tr style=\"text-align: right;\">\n",
       "      <th></th>\n",
       "      <th>Title</th>\n",
       "      <th>Full Text</th>\n",
       "      <th>Publisher</th>\n",
       "      <th>Place</th>\n",
       "      <th>Month</th>\n",
       "      <th>Year</th>\n",
       "    </tr>\n",
       "  </thead>\n",
       "  <tbody>\n",
       "    <tr>\n",
       "      <th>0</th>\n",
       "      <td>Democrats break GOP beachhead on Cape</td>\n",
       "      <td>julian cyr woke day 2016 election cape cods ne...</td>\n",
       "      <td>Boston Globe Media Partners, LLC</td>\n",
       "      <td>Boston, Mass.</td>\n",
       "      <td>Dec 12, 2022</td>\n",
       "      <td>2022</td>\n",
       "    </tr>\n",
       "    <tr>\n",
       "      <th>1</th>\n",
       "      <td>Not long ago, the GOP controlled most of Cape ...</td>\n",
       "      <td>julian cyr woke day 2016 election cape cods ne...</td>\n",
       "      <td>Boston Globe Media Partners, LLC</td>\n",
       "      <td>Boston</td>\n",
       "      <td>Dec 12, 2022</td>\n",
       "      <td>2022</td>\n",
       "    </tr>\n",
       "    <tr>\n",
       "      <th>2</th>\n",
       "      <td>Not long ago, the GOP controlled most of Cape ...</td>\n",
       "      <td>julian cyr woke day 2016 election cape cods ne...</td>\n",
       "      <td>Boston Globe Media Partners, LLC</td>\n",
       "      <td>Boston</td>\n",
       "      <td>Dec 11, 2022</td>\n",
       "      <td>2022</td>\n",
       "    </tr>\n",
       "    <tr>\n",
       "      <th>3</th>\n",
       "      <td>Grand jury calls for stronger law against smug...</td>\n",
       "      <td>tallahassee statewide grand jury last week cal...</td>\n",
       "      <td>Tribune Publishing Company, LLC</td>\n",
       "      <td>Fort Lauderdale, Fla.</td>\n",
       "      <td>Dec 11, 2022</td>\n",
       "      <td>2022</td>\n",
       "    </tr>\n",
       "    <tr>\n",
       "      <th>4</th>\n",
       "      <td>Visa shift for farm workers in doubt</td>\n",
       "      <td>tom hughes fourthgeneration owner hughes nurse...</td>\n",
       "      <td>Gannett Media Corp</td>\n",
       "      <td>Des Moines, Iowa</td>\n",
       "      <td>Dec 11, 2022</td>\n",
       "      <td>2022</td>\n",
       "    </tr>\n",
       "    <tr>\n",
       "      <th>...</th>\n",
       "      <td>...</td>\n",
       "      <td>...</td>\n",
       "      <td>...</td>\n",
       "      <td>...</td>\n",
       "      <td>...</td>\n",
       "      <td>...</td>\n",
       "    </tr>\n",
       "    <tr>\n",
       "      <th>995</th>\n",
       "      <td>U.S. immigration arrests drop under Biden poli...</td>\n",
       "      <td>ben fox associated press washington immigratio...</td>\n",
       "      <td>Telegraph Herald</td>\n",
       "      <td>Dubuque, Iowa</td>\n",
       "      <td>Mar 12, 2022</td>\n",
       "      <td>2022</td>\n",
       "    </tr>\n",
       "    <tr>\n",
       "      <th>996</th>\n",
       "      <td>Immigration policies hinder immigrants and U.S...</td>\n",
       "      <td>2020 received masters degree epidemiology yale...</td>\n",
       "      <td>Gannett Media Corp</td>\n",
       "      <td>Nashville, Tenn.</td>\n",
       "      <td>Jul 18, 2021</td>\n",
       "      <td>2021</td>\n",
       "    </tr>\n",
       "    <tr>\n",
       "      <th>997</th>\n",
       "      <td>Immigration emerges as policy response to slow...</td>\n",
       "      <td>enlarge image</td>\n",
       "      <td>CQ Roll Call</td>\n",
       "      <td>Washington, D.C.</td>\n",
       "      <td>May 11, 2021</td>\n",
       "      <td>2021</td>\n",
       "    </tr>\n",
       "    <tr>\n",
       "      <th>998</th>\n",
       "      <td>Immigration activists call for aid</td>\n",
       "      <td>four days group republican lawmakers called bo...</td>\n",
       "      <td>Gannett Media Corp</td>\n",
       "      <td>El Paso, Tex.</td>\n",
       "      <td>Mar 20, 2021</td>\n",
       "      <td>2021</td>\n",
       "    </tr>\n",
       "    <tr>\n",
       "      <th>999</th>\n",
       "      <td>What the Horrific Crash on the Border Says Abo...</td>\n",
       "      <td>propublica nonprofit newsroom investigates abu...</td>\n",
       "      <td>ProPublica</td>\n",
       "      <td>New York</td>\n",
       "      <td>Mar 4, 2021</td>\n",
       "      <td>2021</td>\n",
       "    </tr>\n",
       "  </tbody>\n",
       "</table>\n",
       "<p>1000 rows × 6 columns</p>\n",
       "</div>"
      ],
      "text/plain": [
       "                                                 Title  \\\n",
       "0                Democrats break GOP beachhead on Cape   \n",
       "1    Not long ago, the GOP controlled most of Cape ...   \n",
       "2    Not long ago, the GOP controlled most of Cape ...   \n",
       "3    Grand jury calls for stronger law against smug...   \n",
       "4                 Visa shift for farm workers in doubt   \n",
       "..                                                 ...   \n",
       "995  U.S. immigration arrests drop under Biden poli...   \n",
       "996  Immigration policies hinder immigrants and U.S...   \n",
       "997  Immigration emerges as policy response to slow...   \n",
       "998                 Immigration activists call for aid   \n",
       "999  What the Horrific Crash on the Border Says Abo...   \n",
       "\n",
       "                                             Full Text  \\\n",
       "0    julian cyr woke day 2016 election cape cods ne...   \n",
       "1    julian cyr woke day 2016 election cape cods ne...   \n",
       "2    julian cyr woke day 2016 election cape cods ne...   \n",
       "3    tallahassee statewide grand jury last week cal...   \n",
       "4    tom hughes fourthgeneration owner hughes nurse...   \n",
       "..                                                 ...   \n",
       "995  ben fox associated press washington immigratio...   \n",
       "996  2020 received masters degree epidemiology yale...   \n",
       "997                                      enlarge image   \n",
       "998  four days group republican lawmakers called bo...   \n",
       "999  propublica nonprofit newsroom investigates abu...   \n",
       "\n",
       "                            Publisher                  Place         Month  \\\n",
       "0    Boston Globe Media Partners, LLC          Boston, Mass.  Dec 12, 2022   \n",
       "1    Boston Globe Media Partners, LLC                 Boston  Dec 12, 2022   \n",
       "2    Boston Globe Media Partners, LLC                 Boston  Dec 11, 2022   \n",
       "3     Tribune Publishing Company, LLC  Fort Lauderdale, Fla.  Dec 11, 2022   \n",
       "4                  Gannett Media Corp       Des Moines, Iowa  Dec 11, 2022   \n",
       "..                                ...                    ...           ...   \n",
       "995                  Telegraph Herald          Dubuque, Iowa  Mar 12, 2022   \n",
       "996                Gannett Media Corp       Nashville, Tenn.  Jul 18, 2021   \n",
       "997                      CQ Roll Call       Washington, D.C.  May 11, 2021   \n",
       "998                Gannett Media Corp          El Paso, Tex.  Mar 20, 2021   \n",
       "999                        ProPublica               New York   Mar 4, 2021   \n",
       "\n",
       "     Year  \n",
       "0    2022  \n",
       "1    2022  \n",
       "2    2022  \n",
       "3    2022  \n",
       "4    2022  \n",
       "..    ...  \n",
       "995  2022  \n",
       "996  2021  \n",
       "997  2021  \n",
       "998  2021  \n",
       "999  2021  \n",
       "\n",
       "[1000 rows x 6 columns]"
      ]
     },
     "execution_count": 7,
     "metadata": {},
     "output_type": "execute_result"
    }
   ],
   "source": [
    "# Clean full texts of the dataset\n",
    "df['Full Text'] = df['Full Text'].apply(lambda text: preprocess(text))\n",
    "# Drop duplicates\n",
    "df.drop_duplicates(subset=['Full Text'])\n",
    "# Show the dataframe after cleaning\n",
    "df"
   ]
  },
  {
   "cell_type": "markdown",
   "id": "ff53c0ea",
   "metadata": {},
   "source": [
    "# Data Analysis"
   ]
  },
  {
   "cell_type": "markdown",
   "id": "0c43e0b2",
   "metadata": {},
   "source": [
    "## Sentiment Analysis"
   ]
  },
  {
   "cell_type": "markdown",
   "id": "c30c5833",
   "metadata": {},
   "source": [
    "Since we were interested in how the public react to recent immigration policies, we first began our analysis by conducting sentiment analysis on each article to gain insights into the general trend and distribution of sentiments. We started by calculating the polarity score of each article using TextBlob and then labeled its sentiment accordingly."
   ]
  },
  {
   "cell_type": "code",
   "execution_count": 8,
   "id": "9df6c6a3",
   "metadata": {},
   "outputs": [],
   "source": [
    "from textblob import TextBlob"
   ]
  },
  {
   "cell_type": "code",
   "execution_count": 9,
   "id": "0f6a49fb",
   "metadata": {},
   "outputs": [],
   "source": [
    "# Calculate polarity score of each article using TextBlob and add it to the data frame\n",
    "df['Polarity Score'] = df['Full Text'].apply(lambda text: TextBlob(text).sentiment.polarity)\n",
    "# Update polarity score for df_copy\n",
    "df_copy['Polarity Score'] = df['Polarity Score']"
   ]
  },
  {
   "cell_type": "code",
   "execution_count": 10,
   "id": "944c04b9",
   "metadata": {},
   "outputs": [],
   "source": [
    "# Function to label sentiment for each article according to polarity scores\n",
    "# If score < 0, it is negative. If score == 0, it is neutral. If score > 0, it is positive.\n",
    "def sentiment_label (score):\n",
    "    if score < 0:\n",
    "        return \"NEGATIVE\"\n",
    "    elif score == 0:\n",
    "        return \"NEUTRAL\"\n",
    "    elif score > 0:\n",
    "        return \"POSITIVE\""
   ]
  },
  {
   "cell_type": "code",
   "execution_count": 11,
   "id": "cb87f117",
   "metadata": {
    "scrolled": true
   },
   "outputs": [
    {
     "data": {
      "text/html": [
       "<div>\n",
       "<style scoped>\n",
       "    .dataframe tbody tr th:only-of-type {\n",
       "        vertical-align: middle;\n",
       "    }\n",
       "\n",
       "    .dataframe tbody tr th {\n",
       "        vertical-align: top;\n",
       "    }\n",
       "\n",
       "    .dataframe thead th {\n",
       "        text-align: right;\n",
       "    }\n",
       "</style>\n",
       "<table border=\"1\" class=\"dataframe\">\n",
       "  <thead>\n",
       "    <tr style=\"text-align: right;\">\n",
       "      <th></th>\n",
       "      <th>Title</th>\n",
       "      <th>Full Text</th>\n",
       "      <th>Publisher</th>\n",
       "      <th>Place</th>\n",
       "      <th>Month</th>\n",
       "      <th>Year</th>\n",
       "      <th>Polarity Score</th>\n",
       "      <th>Sentiment</th>\n",
       "    </tr>\n",
       "  </thead>\n",
       "  <tbody>\n",
       "    <tr>\n",
       "      <th>0</th>\n",
       "      <td>Democrats break GOP beachhead on Cape</td>\n",
       "      <td>julian cyr woke day 2016 election cape cods ne...</td>\n",
       "      <td>Boston Globe Media Partners, LLC</td>\n",
       "      <td>Boston, Mass.</td>\n",
       "      <td>Dec 12, 2022</td>\n",
       "      <td>2022</td>\n",
       "      <td>0.042180</td>\n",
       "      <td>POSITIVE</td>\n",
       "    </tr>\n",
       "    <tr>\n",
       "      <th>1</th>\n",
       "      <td>Not long ago, the GOP controlled most of Cape ...</td>\n",
       "      <td>julian cyr woke day 2016 election cape cods ne...</td>\n",
       "      <td>Boston Globe Media Partners, LLC</td>\n",
       "      <td>Boston</td>\n",
       "      <td>Dec 12, 2022</td>\n",
       "      <td>2022</td>\n",
       "      <td>0.042180</td>\n",
       "      <td>POSITIVE</td>\n",
       "    </tr>\n",
       "    <tr>\n",
       "      <th>2</th>\n",
       "      <td>Not long ago, the GOP controlled most of Cape ...</td>\n",
       "      <td>julian cyr woke day 2016 election cape cods ne...</td>\n",
       "      <td>Boston Globe Media Partners, LLC</td>\n",
       "      <td>Boston</td>\n",
       "      <td>Dec 11, 2022</td>\n",
       "      <td>2022</td>\n",
       "      <td>0.042180</td>\n",
       "      <td>POSITIVE</td>\n",
       "    </tr>\n",
       "    <tr>\n",
       "      <th>3</th>\n",
       "      <td>Grand jury calls for stronger law against smug...</td>\n",
       "      <td>tallahassee statewide grand jury last week cal...</td>\n",
       "      <td>Tribune Publishing Company, LLC</td>\n",
       "      <td>Fort Lauderdale, Fla.</td>\n",
       "      <td>Dec 11, 2022</td>\n",
       "      <td>2022</td>\n",
       "      <td>0.039899</td>\n",
       "      <td>POSITIVE</td>\n",
       "    </tr>\n",
       "    <tr>\n",
       "      <th>4</th>\n",
       "      <td>Visa shift for farm workers in doubt</td>\n",
       "      <td>tom hughes fourthgeneration owner hughes nurse...</td>\n",
       "      <td>Gannett Media Corp</td>\n",
       "      <td>Des Moines, Iowa</td>\n",
       "      <td>Dec 11, 2022</td>\n",
       "      <td>2022</td>\n",
       "      <td>-0.025194</td>\n",
       "      <td>NEGATIVE</td>\n",
       "    </tr>\n",
       "    <tr>\n",
       "      <th>...</th>\n",
       "      <td>...</td>\n",
       "      <td>...</td>\n",
       "      <td>...</td>\n",
       "      <td>...</td>\n",
       "      <td>...</td>\n",
       "      <td>...</td>\n",
       "      <td>...</td>\n",
       "      <td>...</td>\n",
       "    </tr>\n",
       "    <tr>\n",
       "      <th>995</th>\n",
       "      <td>U.S. immigration arrests drop under Biden poli...</td>\n",
       "      <td>ben fox associated press washington immigratio...</td>\n",
       "      <td>Telegraph Herald</td>\n",
       "      <td>Dubuque, Iowa</td>\n",
       "      <td>Mar 12, 2022</td>\n",
       "      <td>2022</td>\n",
       "      <td>-0.008783</td>\n",
       "      <td>NEGATIVE</td>\n",
       "    </tr>\n",
       "    <tr>\n",
       "      <th>996</th>\n",
       "      <td>Immigration policies hinder immigrants and U.S...</td>\n",
       "      <td>2020 received masters degree epidemiology yale...</td>\n",
       "      <td>Gannett Media Corp</td>\n",
       "      <td>Nashville, Tenn.</td>\n",
       "      <td>Jul 18, 2021</td>\n",
       "      <td>2021</td>\n",
       "      <td>0.033153</td>\n",
       "      <td>POSITIVE</td>\n",
       "    </tr>\n",
       "    <tr>\n",
       "      <th>997</th>\n",
       "      <td>Immigration emerges as policy response to slow...</td>\n",
       "      <td>enlarge image</td>\n",
       "      <td>CQ Roll Call</td>\n",
       "      <td>Washington, D.C.</td>\n",
       "      <td>May 11, 2021</td>\n",
       "      <td>2021</td>\n",
       "      <td>0.000000</td>\n",
       "      <td>NEUTRAL</td>\n",
       "    </tr>\n",
       "    <tr>\n",
       "      <th>998</th>\n",
       "      <td>Immigration activists call for aid</td>\n",
       "      <td>four days group republican lawmakers called bo...</td>\n",
       "      <td>Gannett Media Corp</td>\n",
       "      <td>El Paso, Tex.</td>\n",
       "      <td>Mar 20, 2021</td>\n",
       "      <td>2021</td>\n",
       "      <td>0.111453</td>\n",
       "      <td>POSITIVE</td>\n",
       "    </tr>\n",
       "    <tr>\n",
       "      <th>999</th>\n",
       "      <td>What the Horrific Crash on the Border Says Abo...</td>\n",
       "      <td>propublica nonprofit newsroom investigates abu...</td>\n",
       "      <td>ProPublica</td>\n",
       "      <td>New York</td>\n",
       "      <td>Mar 4, 2021</td>\n",
       "      <td>2021</td>\n",
       "      <td>-0.240000</td>\n",
       "      <td>NEGATIVE</td>\n",
       "    </tr>\n",
       "  </tbody>\n",
       "</table>\n",
       "<p>1000 rows × 8 columns</p>\n",
       "</div>"
      ],
      "text/plain": [
       "                                                 Title  \\\n",
       "0                Democrats break GOP beachhead on Cape   \n",
       "1    Not long ago, the GOP controlled most of Cape ...   \n",
       "2    Not long ago, the GOP controlled most of Cape ...   \n",
       "3    Grand jury calls for stronger law against smug...   \n",
       "4                 Visa shift for farm workers in doubt   \n",
       "..                                                 ...   \n",
       "995  U.S. immigration arrests drop under Biden poli...   \n",
       "996  Immigration policies hinder immigrants and U.S...   \n",
       "997  Immigration emerges as policy response to slow...   \n",
       "998                 Immigration activists call for aid   \n",
       "999  What the Horrific Crash on the Border Says Abo...   \n",
       "\n",
       "                                             Full Text  \\\n",
       "0    julian cyr woke day 2016 election cape cods ne...   \n",
       "1    julian cyr woke day 2016 election cape cods ne...   \n",
       "2    julian cyr woke day 2016 election cape cods ne...   \n",
       "3    tallahassee statewide grand jury last week cal...   \n",
       "4    tom hughes fourthgeneration owner hughes nurse...   \n",
       "..                                                 ...   \n",
       "995  ben fox associated press washington immigratio...   \n",
       "996  2020 received masters degree epidemiology yale...   \n",
       "997                                      enlarge image   \n",
       "998  four days group republican lawmakers called bo...   \n",
       "999  propublica nonprofit newsroom investigates abu...   \n",
       "\n",
       "                            Publisher                  Place         Month  \\\n",
       "0    Boston Globe Media Partners, LLC          Boston, Mass.  Dec 12, 2022   \n",
       "1    Boston Globe Media Partners, LLC                 Boston  Dec 12, 2022   \n",
       "2    Boston Globe Media Partners, LLC                 Boston  Dec 11, 2022   \n",
       "3     Tribune Publishing Company, LLC  Fort Lauderdale, Fla.  Dec 11, 2022   \n",
       "4                  Gannett Media Corp       Des Moines, Iowa  Dec 11, 2022   \n",
       "..                                ...                    ...           ...   \n",
       "995                  Telegraph Herald          Dubuque, Iowa  Mar 12, 2022   \n",
       "996                Gannett Media Corp       Nashville, Tenn.  Jul 18, 2021   \n",
       "997                      CQ Roll Call       Washington, D.C.  May 11, 2021   \n",
       "998                Gannett Media Corp          El Paso, Tex.  Mar 20, 2021   \n",
       "999                        ProPublica               New York   Mar 4, 2021   \n",
       "\n",
       "     Year  Polarity Score Sentiment  \n",
       "0    2022        0.042180  POSITIVE  \n",
       "1    2022        0.042180  POSITIVE  \n",
       "2    2022        0.042180  POSITIVE  \n",
       "3    2022        0.039899  POSITIVE  \n",
       "4    2022       -0.025194  NEGATIVE  \n",
       "..    ...             ...       ...  \n",
       "995  2022       -0.008783  NEGATIVE  \n",
       "996  2021        0.033153  POSITIVE  \n",
       "997  2021        0.000000   NEUTRAL  \n",
       "998  2021        0.111453  POSITIVE  \n",
       "999  2021       -0.240000  NEGATIVE  \n",
       "\n",
       "[1000 rows x 8 columns]"
      ]
     },
     "execution_count": 11,
     "metadata": {},
     "output_type": "execute_result"
    }
   ],
   "source": [
    "# Label sentiments and add them to the dataframes\n",
    "df['Sentiment'] = df['Polarity Score'].apply(lambda score: sentiment_label(score))\n",
    "df_copy['Sentiment'] = df['Sentiment']\n",
    "\n",
    "# Show the dataframe\n",
    "df"
   ]
  },
  {
   "cell_type": "code",
   "execution_count": 12,
   "id": "cd1bd1d9",
   "metadata": {},
   "outputs": [],
   "source": [
    "# Export dataframe to CSV file for later use\n",
    "from pathlib import Path\n",
    "filepath = Path(\"/home/jupyter-ho25l@mtholyoke.ed-0035e/Individual Project/immigration.csv\")\n",
    "filepath.parent.mkdir(parents=True, exist_ok=True)\n",
    "df.to_csv(filepath)"
   ]
  },
  {
   "cell_type": "code",
   "execution_count": 13,
   "id": "741f6df2",
   "metadata": {},
   "outputs": [],
   "source": [
    "# Count the number of articles labeled in each sentiment\n",
    "sent_counts = df['Sentiment'].value_counts(normalize=True).values"
   ]
  },
  {
   "cell_type": "code",
   "execution_count": 14,
   "id": "6e27a7d0",
   "metadata": {},
   "outputs": [
    {
     "data": {
      "image/png": "[encoded data removed]",
      "text/plain": [
       "<Figure size 432x288 with 1 Axes>"
      ]
     },
     "metadata": {
      "needs_background": "light"
     },
     "output_type": "display_data"
    }
   ],
   "source": [
    "# Bar plot of sentiment counts for all articles\n",
    "import numpy as np\n",
    "import matplotlib.pyplot as plt\n",
    "\n",
    "# X-axis labels\n",
    "x_vars = ['POSITIVE','NEGATIVE','NEUTRAL']\n",
    "  \n",
    "X_axis = np.arange(len(x_vars))\n",
    "  \n",
    "plt.bar(x_vars, sent_counts, 0.4, color = \"green\")\n",
    "  \n",
    "plt.xticks(X_axis, x_vars)\n",
    "plt.xlabel(\"Sentiment\")\n",
    "plt.ylabel(\"Percentage of All Articles\")\n",
    "plt.title(\"Sentiments Counts\")\n",
    "plt.show()"
   ]
  },
  {
   "cell_type": "markdown",
   "id": "38c173cd",
   "metadata": {},
   "source": [
    "We can see that about 66.7% of the articles were labeled as positive. Given that our data consists of articles published from March 2021 to December 2022 when the Biden administration already took office and when the COVID-19 has increasingly cooled down, this result is quite expected, especially due to several actions and proposals on lifting restrictions that have caused stresses and uncertainties to immigrants, undocumented immigrants, and also non-US citizens who were studying and working in the U.S. According to the Census Bureau’s monthly Current Population Survey (CPS), non-US citizens make up around 14.6% of the U.S. population as of September, 2022- a record in the U.S. history. The changes have resulted in an increasing number of green cards and H-1B visas being issued after the sharp decline amid the pandemic. In addition, around one million unauthorized immigrants have also been granted temporary permission to remain in the U.S. through the Deferred Action for Childhood Arrivals and Temporary Protected Status programs. These recent changes and relieves made by the Biden administration can be more likely to sway these groups to react more positively.  "
   ]
  },
  {
   "cell_type": "code",
   "execution_count": 15,
   "id": "80ce1e5a",
   "metadata": {},
   "outputs": [
    {
     "data": {
      "text/plain": [
       "0.030768783145020302"
      ]
     },
     "execution_count": 15,
     "metadata": {},
     "output_type": "execute_result"
    }
   ],
   "source": [
    "# Mean polarity score of all articles\n",
    "df['Polarity Score'].mean()"
   ]
  },
  {
   "cell_type": "markdown",
   "id": "60c885c8",
   "metadata": {},
   "source": [
    "Although the sentiment counts above may show that the general sentiment of all articles in the dataset leans toward positive, the average polarity score shows that they may in fact be closer to neutral sentiment since the score is very close to 0. This may suggest that the general public can be more neutral to recent immigration policies as they have brought about positive improvements while having raised concerns at the same time."
   ]
  },
  {
   "cell_type": "code",
   "execution_count": 16,
   "id": "7b60e008",
   "metadata": {},
   "outputs": [
    {
     "data": {
      "text/plain": [
       "New York, N.Y.             0.160\n",
       "Washington, D.C.           0.070\n",
       "Boston                     0.054\n",
       "St. Joseph, Mo.            0.053\n",
       "Austin, Tex.               0.047\n",
       "Boston, Mass.              0.047\n",
       "Phoenix, Ariz.             0.035\n",
       "Austin                     0.034\n",
       "Arlington Heights, Ill.    0.034\n",
       "Arlington                  0.033\n",
       "Name: Place, dtype: float64"
      ]
     },
     "execution_count": 16,
     "metadata": {},
     "output_type": "execute_result"
    }
   ],
   "source": [
    "# Frequency of places where articles were published\n",
    "df['Place'].value_counts(normalize=True)[:10]"
   ]
  },
  {
   "cell_type": "code",
   "execution_count": 17,
   "id": "30642c34",
   "metadata": {},
   "outputs": [
    {
     "data": {
      "text/plain": [
       "Gannett Media Corp                                                      0.198\n",
       "Boston Globe Media Partners, LLC                                        0.095\n",
       "Tribune Publishing Company, LLC                                         0.081\n",
       "New York Times Company                                                  0.070\n",
       "Dow Jones & Company Inc.                                                0.058\n",
       "GateHouse Media, Inc.                                                   0.057\n",
       "St. Joseph News - Press                                                 0.053\n",
       "WP Company LLC d/b/a The Washington Post                                0.044\n",
       "USA Today, a division of Gannett Satellite Information Network, Inc.    0.041\n",
       "Daily Herald                                                            0.034\n",
       "Name: Publisher, dtype: float64"
      ]
     },
     "execution_count": 17,
     "metadata": {},
     "output_type": "execute_result"
    }
   ],
   "source": [
    "# Frequency of publishers\n",
    "df['Publisher'].value_counts(normalize=True)[:10]"
   ]
  },
  {
   "cell_type": "code",
   "execution_count": 18,
   "id": "779b427b",
   "metadata": {},
   "outputs": [],
   "source": [
    "# Extract all positive articles\n",
    "pos_df = df.loc[df['Polarity Score'] > 0].reset_index(drop=True)\n",
    "# Make a copy of all positive articles dataframe\n",
    "pos_df_copy = df_copy.loc[df['Polarity Score'] > 0].reset_index(drop=True)"
   ]
  },
  {
   "cell_type": "code",
   "execution_count": 19,
   "id": "0772241f",
   "metadata": {},
   "outputs": [
    {
     "data": {
      "text/plain": [
       "New York, N.Y.             0.183121\n",
       "Boston                     0.066879\n",
       "Washington, D.C.           0.055732\n",
       "Boston, Mass.              0.050955\n",
       "Phoenix, Ariz.             0.049363\n",
       "Austin, Tex.               0.042994\n",
       "Arlington                  0.036624\n",
       "Arlington Heights, Ill.    0.031847\n",
       "Austin                     0.028662\n",
       "Philadelphia, Pa.          0.028662\n",
       "Name: Place, dtype: float64"
      ]
     },
     "execution_count": 19,
     "metadata": {},
     "output_type": "execute_result"
    }
   ],
   "source": [
    "# Percentage of positive articles published at each city\n",
    "pos_df['Place'].value_counts(normalize=True)[:10]"
   ]
  },
  {
   "cell_type": "code",
   "execution_count": 20,
   "id": "d3689ee5",
   "metadata": {},
   "outputs": [],
   "source": [
    "# Extract all negative articles\n",
    "neg_df = df.loc[df['Polarity Score'] < 0].reset_index(drop=True)\n",
    "# Make a copy of all negative articles dataframe\n",
    "neg_df_copy = df_copy.loc[df['Polarity Score'] < 0].reset_index(drop=True)"
   ]
  },
  {
   "cell_type": "code",
   "execution_count": 21,
   "id": "6120f085",
   "metadata": {},
   "outputs": [
    {
     "data": {
      "text/plain": [
       "New York, N.Y.             0.147170\n",
       "Washington, D.C.           0.075472\n",
       "Austin, Tex.               0.064151\n",
       "Boston, Mass.              0.056604\n",
       "Austin                     0.052830\n",
       "El Paso, Tex.              0.041509\n",
       "Los Angeles, Calif.        0.033962\n",
       "Boston                     0.033962\n",
       "Arlington Heights, Ill.    0.026415\n",
       "Arlington                  0.026415\n",
       "Name: Place, dtype: float64"
      ]
     },
     "execution_count": 21,
     "metadata": {},
     "output_type": "execute_result"
    }
   ],
   "source": [
    "# Percentage of negative articles published at each city\n",
    "neg_df['Place'].value_counts(normalize=True)[:10]"
   ]
  },
  {
   "cell_type": "markdown",
   "id": "877c77ca",
   "metadata": {},
   "source": [
    "We can see that 16% of all articles in our data set were published in New York City. This is understandable since there are several mainstream U.S. newspapers whose headquarters are based in New York such as the New York Times, Dow Jones & Company Inc., and GateHouse Media Inc., which also top the list for publishers' frequency. Boston and Washington DC are also expected to top both lists of places where articles were published due to almost 20% of all articles were published by Gannett Media Corp, whose headquarters are in Washington DC and around 10% of the articles were published by Boston Globe.\n",
    "\n",
    "This overrepresence of articles published by these mainstream U.S. newspapers in our dataset might explain why the top places where positive and negative articles were published are not different. Considering the fact that cities and states that are considered politically \"blue\" like New York City, Washington DC, and Boston should be more positive toward the changes and policies made by president Biden since they are more closely aligned to their views on immigration, we were expecting to see the three cities to top the list for positive articles, while the top of the list for negative articles would be quite different with more names in Southern U.S. \n",
    "\n",
    "However, we can notice that there are no cities that share a border with other countries in the top ten places where positive articles were published. Meanwhile, El Paso, Texas, which is on the Mexico-U.S. border, is on the list for negative articles and is where 4% of all negative articles were published. Since the most recent articles in our data were published in December 12th, 2022, this reflects the current border issue going on in this city. A mass crossing has occured here over the weekend of December 10th and December 11th, 2022, with more than 1,700 migrants have been released into the city by U.S. immigration officials. With the coming termination of Title 42, a public health authority made during Covid-19 that allows officials to restrict alysum seekers in southern border of the U.S., the number of border-crossings is expected to increase. Governors of 15 GOP-led states, including Texas, has shown opposition to the lifting of this authority, collectively claiming that the surge would “impose financial burdens on the states involuntarily hosting them” (https://www.cnbc.com/2022/11/22/15-gop-states-ask-court-to-keep-trump-era-immigration-rule-title-42.html). This clearly implies that Republican-led states and Texas specifically, are showing a negative reaction to the Biden's administration regarding their recent actions on the immigration issue.\n",
    "\n",
    "References: https://www.cnn.com/2022/12/14/politics/biden-administration-prepares-surge/index.html"
   ]
  },
  {
   "cell_type": "markdown",
   "id": "3e20c6cb",
   "metadata": {},
   "source": [
    "# TF-IDF Scores"
   ]
  },
  {
   "cell_type": "markdown",
   "id": "4121c20a",
   "metadata": {},
   "source": [
    "After conducting sentiment analysis on the articles and gaining some initial insights into the sentiment trend, we then wanted to look at the TF-IDF scores for all postive articles and all negative articles. We wanted to see what words are the most relevant to articles of each sentiment to examine if they could suggest any more potential reasons for the different sentiments or if they could reaffirm our hypotheses and expectations so far."
   ]
  },
  {
   "cell_type": "code",
   "execution_count": 22,
   "id": "bc0d4aec",
   "metadata": {},
   "outputs": [],
   "source": [
    "from sklearn.feature_extraction.text import CountVectorizer\n",
    "from sklearn.feature_extraction.text import TfidfTransformer"
   ]
  },
  {
   "cell_type": "code",
   "execution_count": 23,
   "id": "63d9a984",
   "metadata": {},
   "outputs": [],
   "source": [
    "# Initialize list to contain all positive full texts and negative full texts\n",
    "pos_lst = []\n",
    "neg_lst = []\n",
    "# Copy of the above lists\n",
    "pos_lst_copy = []\n",
    "neg_lst_copy = []\n",
    "\n",
    "# Extract full texts and append them to their corresponding list\n",
    "for i in range(len(pos_df)):\n",
    "    pos_lst.append(pos_df['Full Text'][i])\n",
    "    \n",
    "for i in range(len(pos_df_copy)):\n",
    "    pos_lst_copy.append(pos_df_copy['Full Text'][i])\n",
    "    \n",
    "for i in range(len(neg_df)):\n",
    "    neg_lst.append(neg_df['Full Text'][i])\n",
    "    \n",
    "for i in range(len(neg_df_copy)):\n",
    "    neg_lst_copy.append(neg_df_copy['Full Text'][i])\n",
    "\n",
    "# Join all full texts into a string\n",
    "pos_texts = ' '.join(pos_lst)\n",
    "neg_texts = ' '.join(neg_lst)\n",
    "pos_texts_copy = ' '.join(pos_lst_copy)\n",
    "neg_texts_copy = ' '.join(neg_lst_copy)"
   ]
  },
  {
   "cell_type": "code",
   "execution_count": 24,
   "id": "d0466044",
   "metadata": {},
   "outputs": [],
   "source": [
    "# Create a new TF-IDF dataframe that contains positive full texts and negative full texts each as one string \n",
    "tf_data = [['Positive', pos_texts], ['Negative', neg_texts]]\n",
    "tf_df = pd.DataFrame(tf_data, columns=['Sentiment', 'Full Text'])"
   ]
  },
  {
   "cell_type": "code",
   "execution_count": 25,
   "id": "bcc645b1",
   "metadata": {},
   "outputs": [
    {
     "data": {
      "text/html": [
       "<div>\n",
       "<style scoped>\n",
       "    .dataframe tbody tr th:only-of-type {\n",
       "        vertical-align: middle;\n",
       "    }\n",
       "\n",
       "    .dataframe tbody tr th {\n",
       "        vertical-align: top;\n",
       "    }\n",
       "\n",
       "    .dataframe thead th {\n",
       "        text-align: right;\n",
       "    }\n",
       "</style>\n",
       "<table border=\"1\" class=\"dataframe\">\n",
       "  <thead>\n",
       "    <tr style=\"text-align: right;\">\n",
       "      <th></th>\n",
       "      <th>008</th>\n",
       "      <th>044</th>\n",
       "      <th>08</th>\n",
       "      <th>10</th>\n",
       "      <th>100</th>\n",
       "      <th>1000</th>\n",
       "      <th>10000</th>\n",
       "      <th>100000</th>\n",
       "      <th>100kyr</th>\n",
       "      <th>100mile</th>\n",
       "      <th>...</th>\n",
       "      <th>zones</th>\n",
       "      <th>zoning</th>\n",
       "      <th>zoo</th>\n",
       "      <th>zoom</th>\n",
       "      <th>zorn</th>\n",
       "      <th>zota</th>\n",
       "      <th>zubeldia</th>\n",
       "      <th>álvarezjones</th>\n",
       "      <th>únicamente</th>\n",
       "      <th>œin</th>\n",
       "    </tr>\n",
       "    <tr>\n",
       "      <th>Sentiment</th>\n",
       "      <th></th>\n",
       "      <th></th>\n",
       "      <th></th>\n",
       "      <th></th>\n",
       "      <th></th>\n",
       "      <th></th>\n",
       "      <th></th>\n",
       "      <th></th>\n",
       "      <th></th>\n",
       "      <th></th>\n",
       "      <th></th>\n",
       "      <th></th>\n",
       "      <th></th>\n",
       "      <th></th>\n",
       "      <th></th>\n",
       "      <th></th>\n",
       "      <th></th>\n",
       "      <th></th>\n",
       "      <th></th>\n",
       "      <th></th>\n",
       "      <th></th>\n",
       "    </tr>\n",
       "  </thead>\n",
       "  <tbody>\n",
       "    <tr>\n",
       "      <th>Positive</th>\n",
       "      <td>0</td>\n",
       "      <td>0</td>\n",
       "      <td>1</td>\n",
       "      <td>134</td>\n",
       "      <td>52</td>\n",
       "      <td>11</td>\n",
       "      <td>10</td>\n",
       "      <td>34</td>\n",
       "      <td>1</td>\n",
       "      <td>4</td>\n",
       "      <td>...</td>\n",
       "      <td>0</td>\n",
       "      <td>1</td>\n",
       "      <td>1</td>\n",
       "      <td>7</td>\n",
       "      <td>2</td>\n",
       "      <td>1</td>\n",
       "      <td>0</td>\n",
       "      <td>5</td>\n",
       "      <td>0</td>\n",
       "      <td>1</td>\n",
       "    </tr>\n",
       "    <tr>\n",
       "      <th>Negative</th>\n",
       "      <td>1</td>\n",
       "      <td>1</td>\n",
       "      <td>0</td>\n",
       "      <td>39</td>\n",
       "      <td>30</td>\n",
       "      <td>2</td>\n",
       "      <td>9</td>\n",
       "      <td>1</td>\n",
       "      <td>0</td>\n",
       "      <td>0</td>\n",
       "      <td>...</td>\n",
       "      <td>1</td>\n",
       "      <td>0</td>\n",
       "      <td>0</td>\n",
       "      <td>0</td>\n",
       "      <td>0</td>\n",
       "      <td>0</td>\n",
       "      <td>1</td>\n",
       "      <td>0</td>\n",
       "      <td>1</td>\n",
       "      <td>0</td>\n",
       "    </tr>\n",
       "  </tbody>\n",
       "</table>\n",
       "<p>2 rows × 18799 columns</p>\n",
       "</div>"
      ],
      "text/plain": [
       "           008  044  08   10  100  1000  10000  100000  100kyr  100mile  ...  \\\n",
       "Sentiment                                                                ...   \n",
       "Positive     0    0   1  134   52    11     10      34       1        4  ...   \n",
       "Negative     1    1   0   39   30     2      9       1       0        0  ...   \n",
       "\n",
       "           zones  zoning  zoo  zoom  zorn  zota  zubeldia  álvarezjones  \\\n",
       "Sentiment                                                                 \n",
       "Positive       0       1    1     7     2     1         0             5   \n",
       "Negative       1       0    0     0     0     0         1             0   \n",
       "\n",
       "           únicamente  œin  \n",
       "Sentiment                   \n",
       "Positive            0    1  \n",
       "Negative            1    0  \n",
       "\n",
       "[2 rows x 18799 columns]"
      ]
     },
     "execution_count": 25,
     "metadata": {},
     "output_type": "execute_result"
    }
   ],
   "source": [
    "# Initialize the count vectorizer\n",
    "# To change the way text is processed, add arguments within the CountVectorizer parentheses\n",
    "count_vectorizer = CountVectorizer()\n",
    "\n",
    "# Use the count vectorizer on each row of the text column\n",
    "sparse_count_matrix = count_vectorizer.fit_transform(tf_df['Full Text'])\n",
    "\n",
    "# Convert sparse matrix to dataframe to see the word frequencies\n",
    "doc_term_matrix = sparse_count_matrix.todense()\n",
    "\n",
    "# Use the feature names, in this case all unique words, as the column names\n",
    "count_df = pd.DataFrame(doc_term_matrix, columns=count_vectorizer.get_feature_names())\n",
    "\n",
    "# Assign the sentences as the index (to mimic the class presentation)\n",
    "count_df.index = tf_df['Sentiment']\n",
    "\n",
    "count_df"
   ]
  },
  {
   "cell_type": "code",
   "execution_count": 26,
   "id": "6f77ca95",
   "metadata": {},
   "outputs": [],
   "source": [
    "# Converts the count matrix to a TF-IDF matrix.\n",
    "transformer = TfidfTransformer()\n",
    "\n",
    "sparse_tf_idf_matrix = transformer.fit_transform(doc_term_matrix)\n",
    "\n",
    "tf_idf_matrix = sparse_tf_idf_matrix.todense()\n",
    "\n",
    "tf_idf_df = pd.DataFrame(tf_idf_matrix, columns=count_vectorizer.get_feature_names())\n",
    "\n",
    "tf_idf_df.index = tf_df['Sentiment']"
   ]
  },
  {
   "cell_type": "code",
   "execution_count": 27,
   "id": "c53ec786",
   "metadata": {},
   "outputs": [],
   "source": [
    "# Transpose the tf_idf_df and assign it to a new variable\n",
    "tf_idf_df_transposed = tf_idf_df.transpose(copy=True)"
   ]
  },
  {
   "cell_type": "code",
   "execution_count": 28,
   "id": "e42f3c97",
   "metadata": {},
   "outputs": [],
   "source": [
    "# Function to find the top 30 words with the highest TF-IDF scores based on sentiments\n",
    "def top_tf_idf (sent):\n",
    "    return tf_idf_df_transposed.sort_values(by=[sent], ascending=False)[sent][:30]"
   ]
  },
  {
   "cell_type": "code",
   "execution_count": 29,
   "id": "7912f263",
   "metadata": {},
   "outputs": [
    {
     "name": "stdout",
     "output_type": "stream",
     "text": [
      "immigration       0.311261\n",
      "border            0.248219\n",
      "state             0.184071\n",
      "migrants          0.179963\n",
      "us                0.178699\n",
      "new               0.167165\n",
      "immigrants        0.162267\n",
      "people            0.151997\n",
      "texas             0.151049\n",
      "law               0.144097\n",
      "states            0.136987\n",
      "federal           0.131615\n",
      "court             0.115814\n",
      "biden             0.101278\n",
      "country           0.098434\n",
      "administration    0.090850\n",
      "republican        0.090376\n",
      "legal             0.088006\n",
      "president         0.083740\n",
      "policy            0.083582\n",
      "years             0.083424\n",
      "city              0.082792\n",
      "work              0.082476\n",
      "undocumented      0.081528\n",
      "program           0.080422\n",
      "year              0.077262\n",
      "political         0.076630\n",
      "abbott            0.073944\n",
      "two               0.072364\n",
      "desantis          0.070784\n",
      "Name: Positive, dtype: float64\n"
     ]
    }
   ],
   "source": [
    "# Top 30 words with the highest TF-IDF scores among all positive articles\n",
    "print(top_tf_idf('Positive'))"
   ]
  },
  {
   "cell_type": "code",
   "execution_count": 30,
   "id": "7ab761ac",
   "metadata": {},
   "outputs": [
    {
     "name": "stdout",
     "output_type": "stream",
     "text": [
      "immigration       0.342646\n",
      "border            0.311081\n",
      "migrants          0.257079\n",
      "us                0.238445\n",
      "texas             0.197753\n",
      "people            0.154019\n",
      "federal           0.147554\n",
      "law               0.147174\n",
      "states            0.143371\n",
      "state             0.133483\n",
      "immigrants        0.130061\n",
      "biden             0.125497\n",
      "administration    0.113328\n",
      "court             0.112567\n",
      "illegal           0.101919\n",
      "policy            0.085566\n",
      "county            0.083665\n",
      "abbott            0.082524\n",
      "country           0.082144\n",
      "new               0.080242\n",
      "enforcement       0.079482\n",
      "united            0.078341\n",
      "year              0.077580\n",
      "president         0.074918\n",
      "mexico            0.074157\n",
      "years             0.072256\n",
      "according         0.066932\n",
      "florida           0.066552\n",
      "office            0.065411\n",
      "security          0.065030\n",
      "Name: Negative, dtype: float64\n"
     ]
    }
   ],
   "source": [
    "# Top 30 words with the highest TF-IDF scores among all negative articles\n",
    "print(top_tf_idf('Negative'))"
   ]
  },
  {
   "cell_type": "markdown",
   "id": "d8392ad2",
   "metadata": {},
   "source": [
    "Both positive articles and negative articles show a similar pattern in its top 30 words with the highest TF-IDF scores, with words such as \"immigration\", \"border\", \"migrants\" appear frequently as expected. The frequent appearance of words such as \"biden\", \"administration\", \"federal\", \"policy\" and \"law\" might suggest that the discussion of immigration in these articles is strongly related to the actions and decisions by the Biden administration and by the federal government. Therefore, it is likely that there is an association between the articles' sentiments and the government's recent decisions on immigration policies and immigration issues.\n",
    "\n",
    "If we pay a closer look at the score, we can notice that \"border\" in negative articles has a higher score than that in positive articles (0.31 compared to 0.248). At the same time, locations such as \"texas\", \"mexico,\" and \"florida\" are in the list for negative articles while being absent in the positive articles' list. Texas and Florida have one thing in common- they both have a border line with another foreign country. While Texas shares a border with Mexico, Florida shares a border with Cuba. \"security\" is also in the list for negative articles. This suggests that negative articles may discuss and concern more about borders-related and security problems, which may have been a result of recent changes in immigration policies under the Biden's administration with the lifting of Title 42 as an example. Not only Texas, but South Florida has also experienced an increase in Cuban migrants recently with more than 224,000 Cubans having been released since October 2021 (https://www.local10.com/news/local/2022/11/04/cuban-migrant-landings-continue-to-rise-in-south-florida/). Due to such border-crossing surges and due to the direct effects they have on the states, it is likely that these states want the government to better secure the borders by re-enforcing restrictions on alysum seekers. A recent survey by Pew Research Center reveals that in fact, 72% of the surveyed Republicans believed that increasing security along the U.S.-Mexico border is a very important goal for U.S. immigration policy (https://www.pewresearch.org/fact-tank/2022/09/08/republicans-and-democrats-have-different-top-priorities-for-u-s-immigration-policy/). Thus, it is sound to conclude that these states have a more negative attitude toward current immigration policy. \n",
    "\n",
    "Another difference in the two lists is that while \"legal\" is on the list for positive articles, its opposite word  \"illegal\" is on the list for negative articles. This might be a result of the differences between Democrats and Republicans' viewpoints on U.S. immigration policy. According to the same survey by Pew Research Center, Democrats tend to \"view path to legal status as very important.\" In terms of immigration policy, Democrats tend to be more in agreement with allowing a way for illegal immigrants to remain in the U.S. legally, welcoming civilian refugees to escape violence and war, family immigration sponsorship, etc. Meanwhile, the majority of Republicans tend to be against policy that help current illegal immigrants here in the U.S. Therefore, they might have associated illegal immigrants with more negativity, leading to the overall more negative sentiment toward current policy. "
   ]
  },
  {
   "cell_type": "markdown",
   "id": "b90c927a",
   "metadata": {},
   "source": [
    "# Part Of Speech Tagging\n",
    "\n",
    "Examining the counts of nouns or verbs in each set of articles (positive and negative) can reveal what the articles' discussion center around."
   ]
  },
  {
   "cell_type": "code",
   "execution_count": 31,
   "id": "f2547d84",
   "metadata": {},
   "outputs": [],
   "source": [
    "import nltk\n",
    "from nltk.probability import FreqDist"
   ]
  },
  {
   "cell_type": "code",
   "execution_count": 32,
   "id": "227a6f89",
   "metadata": {},
   "outputs": [
    {
     "data": {
      "image/png": "[encoded data removed]",
      "text/plain": [
       "<Figure size 432x288 with 1 Axes>"
      ]
     },
     "metadata": {
      "needs_background": "light"
     },
     "output_type": "display_data"
    },
    {
     "data": {
      "text/plain": [
       "<AxesSubplot:xlabel='Samples', ylabel='Counts'>"
      ]
     },
     "execution_count": 32,
     "metadata": {},
     "output_type": "execute_result"
    }
   ],
   "source": [
    "# Perform parts of speech tags for positive and negative articles\n",
    "pos_tagged = nltk.pos_tag(pos_texts.split())\n",
    "neg_tagged = nltk.pos_tag(neg_texts.split())\n",
    "\n",
    "# Top 20 nouns in positive articles\n",
    "pos_nouns = [word for word,pos in pos_tagged if pos == 'NN' or pos=='NNS' or pos=='NNP' or pos=='NNNPS']\n",
    "pos_nouns_freq = nltk.FreqDist(pos_nouns)\n",
    "FreqDist(pos_nouns_freq).plot(20)"
   ]
  },
  {
   "cell_type": "markdown",
   "id": "37beccba",
   "metadata": {},
   "source": [
    "We can observe that \"program\" is among the nouns with the mosts counts in positive articles. This can suggest that several programs that the Biden administration has either ended, expanded, or ended can have a relationship with the public's positive-leaning attitude. Those programs include the Temporary Protected Status in which the Biden administration has announced three designations in 2022, DACA, family sponsorship program whose future expansion has been proposed, increasing diversity visa through the U.S. diversity visa program, etc."
   ]
  },
  {
   "cell_type": "code",
   "execution_count": 33,
   "id": "d49413ab",
   "metadata": {},
   "outputs": [
    {
     "data": {
      "image/png": "[encoded data removed]",
      "text/plain": [
       "<Figure size 432x288 with 1 Axes>"
      ]
     },
     "metadata": {
      "needs_background": "light"
     },
     "output_type": "display_data"
    },
    {
     "data": {
      "text/plain": [
       "<AxesSubplot:xlabel='Samples', ylabel='Counts'>"
      ]
     },
     "execution_count": 33,
     "metadata": {},
     "output_type": "execute_result"
    }
   ],
   "source": [
    "# Top 20 nouns in negative articles\n",
    "neg_nouns = [word for word,pos in neg_tagged if pos == 'NN' or pos=='NNS' or pos=='NNP' or pos=='NNNPS']\n",
    "neg_nouns_freq = nltk.FreqDist(neg_nouns)\n",
    "FreqDist(neg_nouns_freq).plot(20)"
   ]
  },
  {
   "cell_type": "code",
   "execution_count": 34,
   "id": "87d947cc",
   "metadata": {},
   "outputs": [
    {
     "data": {
      "image/png": "[encoded data removed]",
      "text/plain": [
       "<Figure size 432x288 with 1 Axes>"
      ]
     },
     "metadata": {
      "needs_background": "light"
     },
     "output_type": "display_data"
    },
    {
     "data": {
      "text/plain": [
       "<AxesSubplot:xlabel='Samples', ylabel='Counts'>"
      ]
     },
     "execution_count": 34,
     "metadata": {},
     "output_type": "execute_result"
    }
   ],
   "source": [
    "# Top 20 verbs in positive articles\n",
    "pos_verbs = [word for word,pos in pos_tagged if pos == 'VB' or pos=='VBD' or pos=='VBG' or pos=='VBN' or pos=='VBP' or pos=='VBZ']\n",
    "pos_verbs_freq = nltk.FreqDist(pos_verbs)\n",
    "FreqDist(pos_verbs_freq).plot(20)"
   ]
  },
  {
   "cell_type": "code",
   "execution_count": 35,
   "id": "16d85de4",
   "metadata": {},
   "outputs": [
    {
     "data": {
      "image/png": "[encoded data removed]",
      "text/plain": [
       "<Figure size 432x288 with 1 Axes>"
      ]
     },
     "metadata": {
      "needs_background": "light"
     },
     "output_type": "display_data"
    },
    {
     "data": {
      "text/plain": [
       "<AxesSubplot:xlabel='Samples', ylabel='Counts'>"
      ]
     },
     "execution_count": 35,
     "metadata": {},
     "output_type": "execute_result"
    }
   ],
   "source": [
    "# Top 20 verbs in negative articles\n",
    "neg_verbs = [word for word,pos in neg_tagged if pos == 'VB' or pos=='VBD' or pos=='VBG' or pos=='VBN' or pos=='VBP' or pos=='VBZ']\n",
    "neg_verbs_freq = nltk.FreqDist(neg_verbs)\n",
    "FreqDist(neg_verbs_freq).plot(20)"
   ]
  },
  {
   "cell_type": "markdown",
   "id": "f025a3db",
   "metadata": {},
   "source": [
    "By looking at the plot for verbs, we can see that \"seeking\", \"smuggling\", and \"released\" (also, \"texas\") are among verbs with the most counts in all negative articles. This once again suggests what we have discovered earlier that a considerable number of negative articles may have mentioned or discussed the current situation of border-crossing in Texas. The appearance of \"smuggling\" might once again suggest that Republicans tend to be less tolerate toward undocumented or unauthorized immigrants. Therefore, it makes sense that they would react more negatively toward current lifts of restrictions by the Biden's administration."
   ]
  },
  {
   "cell_type": "markdown",
   "id": "a4a62053",
   "metadata": {},
   "source": [
    "# Conclusion "
   ]
  },
  {
   "cell_type": "markdown",
   "id": "4fae8af7",
   "metadata": {},
   "source": [
    "In conclusion, the analysis has given us a glimpse into what could be attributed to the difference in attitudes toward recent immigration policy under the Biden's administration. While the new proprosals, expansion on current programs that support unauthorized immigrants and non-U.S. citizens, and lifts of restrictions established under the Trump's administration may largely account for the more positive-leaning sentiment, the current border issues in El Paso, Texas and Florida reveals that the public of the affected states might not be happy with the current policy. The main difference in each political party's priorities toward immigration issue is also observed: while Democrats tend to support legal paths for unauthorized immigrants, Republicans strongly believe in border security. \n",
    "\n",
    "# Challenges & Limitations\n",
    "Throughout the analysis, I have encountered a couple of limitations and challenges. The raw text data that I imported from our search on ProQuest contains multiple duplicates. I attempted to remove the duplicates based on the full texts, but not all the duplicates might have been removed since there could be minor differences in how the full text appeared. In addition, since the raw text data included too many publishers, it was challenging to sort out articles published under each newspaper to examine if there is a relationship between the publisher and the sentiment trend of its articles. If we can include it in our future analysis, it can be a helpful indicator in predicting the sentiment trend since newspapers also tend to lean toward one end more than the other on the political spectrum. I also attempted to include Named Entity Recognition (NER) in the analysis, but since the data size is quite large, its execution time was slow and the results were also very lengthy and could be time-consuming to process. "
   ]
  },
  {
   "cell_type": "markdown",
   "id": "41813ced",
   "metadata": {},
   "source": [
    "# Proposal for Future Analysis"
   ]
  },
  {
   "cell_type": "markdown",
   "id": "1af4b443",
   "metadata": {},
   "source": [
    "Although this analysis provides us with an aspect to the answer of our question, there are still many aspects to it, specifically factors from other disciplines that can affect the sentiment trend given that migration studies and immigration are a multidiscipline area and issue. In the future, I plan to expand on this analysis using NER and other tools to collect more detailed results that can help achieve this goal."
   ]
  }
 ],
 "metadata": {
  "kernelspec": {
   "display_name": "Python 3 (ipykernel)",
   "language": "python",
   "name": "python3"
  },
  "language_info": {
   "codemirror_mode": {
    "name": "ipython",
    "version": 3
   },
   "file_extension": ".py",
   "mimetype": "text/x-python",
   "name": "python",
   "nbconvert_exporter": "python",
   "pygments_lexer": "ipython3",
   "version": "3.7.3"
  }
 },
 "nbformat": 4,
 "nbformat_minor": 5
}
